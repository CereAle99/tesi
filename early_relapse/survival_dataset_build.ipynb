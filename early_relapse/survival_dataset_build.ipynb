{
 "cells": [
  {
   "cell_type": "code",
   "execution_count": 1,
   "metadata": {},
   "outputs": [],
   "source": [
    "import pandas as pd\n",
    "import os"
   ]
  },
  {
   "cell_type": "code",
   "execution_count": 3,
   "metadata": {},
   "outputs": [],
   "source": [
    "current_directory = os.getcwd()\n",
    "\n",
    "# path of clinical_data_300523.xlsx\n",
    "data_path = os.path.join(current_directory, 'data')\n",
    "\n",
    "# load the file in a pandas dataframe and save it as csv\n",
    "file_path = os.path.join(data_path, 'clinical_data_complete.csv')\n",
    "clinical_data = pd.read_csv(file_path, sep=',')\n",
    "\n",
    "# save a csv file with just the survival data\n",
    "survival = clinical_data.loc[:, [\"MPC\", \"OS_MONTH\", \"OS_EVENT\"]]\n",
    "file_path = os.path.join(data_path, \"survival_complete.csv\")\n",
    "survival.to_csv(file_path, index=False)\n",
    "\n",
    "\n",
    "# save it to the file clinical_data_early_relapse.csv\n",
    "# file_path = os.path.join(data_path, 'clinical_data_early_relapse_complete.csv')\n",
    "# clinical_data.to_csv(file_path, index=False)\n"
   ]
  }
 ],
 "metadata": {
  "kernelspec": {
   "display_name": "alegenomed",
   "language": "python",
   "name": "python3"
  },
  "language_info": {
   "codemirror_mode": {
    "name": "ipython",
    "version": 3
   },
   "file_extension": ".py",
   "mimetype": "text/x-python",
   "name": "python",
   "nbconvert_exporter": "python",
   "pygments_lexer": "ipython3",
   "version": "3.11.6"
  }
 },
 "nbformat": 4,
 "nbformat_minor": 2
}
